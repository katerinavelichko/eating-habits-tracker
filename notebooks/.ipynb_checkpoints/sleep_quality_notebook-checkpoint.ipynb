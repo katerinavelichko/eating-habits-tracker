{
 "cells": [
  {
   "cell_type": "code",
   "execution_count": 1,
   "id": "b01db7fe-a73e-4d9f-9c43-77b372169dd5",
   "metadata": {},
   "outputs": [],
   "source": [
    "import pandas as pd\n",
    "import csv\n",
    "import matplotlib.pyplot as plt\n",
    "plt.style.use('ggplot')\n",
    "pd.set_option('display.max_columns', 200)\n",
    "\n",
    "from plotly.subplots import make_subplots\n",
    "import plotly.express as px\n",
    "\n",
    "import warnings\n",
    "warnings.filterwarnings(action='ignore')"
   ]
  },
  {
   "cell_type": "markdown",
   "id": "dcfec445-cddc-4415-a987-2a218e91d4c9",
   "metadata": {},
   "source": [
    "# Достанем данные"
   ]
  },
  {
   "cell_type": "code",
   "execution_count": 2,
   "id": "a5c41777-7382-4c09-aea5-2556beda1b59",
   "metadata": {
    "scrolled": true
   },
   "outputs": [
    {
     "ename": "FileNotFoundError",
     "evalue": "[Errno 2] No such file or directory: '../data/per_statistica.csv'",
     "output_type": "error",
     "traceback": [
      "\u001b[0;31m---------------------------------------------------------------------------\u001b[0m",
      "\u001b[0;31mFileNotFoundError\u001b[0m                         Traceback (most recent call last)",
      "Cell \u001b[0;32mIn[2], line 1\u001b[0m\n\u001b[0;32m----> 1\u001b[0m data \u001b[38;5;241m=\u001b[39m pd\u001b[38;5;241m.\u001b[39mread_csv(\u001b[38;5;124m'\u001b[39m\u001b[38;5;124m../data/per_statistica.csv\u001b[39m\u001b[38;5;124m'\u001b[39m) \u001b[38;5;66;03m#данные, которые мы нашли\u001b[39;00m\n\u001b[1;32m      2\u001b[0m data\n",
      "File \u001b[0;32m~/anaconda3/lib/python3.11/site-packages/pandas/io/parsers/readers.py:912\u001b[0m, in \u001b[0;36mread_csv\u001b[0;34m(filepath_or_buffer, sep, delimiter, header, names, index_col, usecols, dtype, engine, converters, true_values, false_values, skipinitialspace, skiprows, skipfooter, nrows, na_values, keep_default_na, na_filter, verbose, skip_blank_lines, parse_dates, infer_datetime_format, keep_date_col, date_parser, date_format, dayfirst, cache_dates, iterator, chunksize, compression, thousands, decimal, lineterminator, quotechar, quoting, doublequote, escapechar, comment, encoding, encoding_errors, dialect, on_bad_lines, delim_whitespace, low_memory, memory_map, float_precision, storage_options, dtype_backend)\u001b[0m\n\u001b[1;32m    899\u001b[0m kwds_defaults \u001b[38;5;241m=\u001b[39m _refine_defaults_read(\n\u001b[1;32m    900\u001b[0m     dialect,\n\u001b[1;32m    901\u001b[0m     delimiter,\n\u001b[0;32m   (...)\u001b[0m\n\u001b[1;32m    908\u001b[0m     dtype_backend\u001b[38;5;241m=\u001b[39mdtype_backend,\n\u001b[1;32m    909\u001b[0m )\n\u001b[1;32m    910\u001b[0m kwds\u001b[38;5;241m.\u001b[39mupdate(kwds_defaults)\n\u001b[0;32m--> 912\u001b[0m \u001b[38;5;28;01mreturn\u001b[39;00m _read(filepath_or_buffer, kwds)\n",
      "File \u001b[0;32m~/anaconda3/lib/python3.11/site-packages/pandas/io/parsers/readers.py:577\u001b[0m, in \u001b[0;36m_read\u001b[0;34m(filepath_or_buffer, kwds)\u001b[0m\n\u001b[1;32m    574\u001b[0m _validate_names(kwds\u001b[38;5;241m.\u001b[39mget(\u001b[38;5;124m\"\u001b[39m\u001b[38;5;124mnames\u001b[39m\u001b[38;5;124m\"\u001b[39m, \u001b[38;5;28;01mNone\u001b[39;00m))\n\u001b[1;32m    576\u001b[0m \u001b[38;5;66;03m# Create the parser.\u001b[39;00m\n\u001b[0;32m--> 577\u001b[0m parser \u001b[38;5;241m=\u001b[39m TextFileReader(filepath_or_buffer, \u001b[38;5;241m*\u001b[39m\u001b[38;5;241m*\u001b[39mkwds)\n\u001b[1;32m    579\u001b[0m \u001b[38;5;28;01mif\u001b[39;00m chunksize \u001b[38;5;129;01mor\u001b[39;00m iterator:\n\u001b[1;32m    580\u001b[0m     \u001b[38;5;28;01mreturn\u001b[39;00m parser\n",
      "File \u001b[0;32m~/anaconda3/lib/python3.11/site-packages/pandas/io/parsers/readers.py:1407\u001b[0m, in \u001b[0;36mTextFileReader.__init__\u001b[0;34m(self, f, engine, **kwds)\u001b[0m\n\u001b[1;32m   1404\u001b[0m     \u001b[38;5;28mself\u001b[39m\u001b[38;5;241m.\u001b[39moptions[\u001b[38;5;124m\"\u001b[39m\u001b[38;5;124mhas_index_names\u001b[39m\u001b[38;5;124m\"\u001b[39m] \u001b[38;5;241m=\u001b[39m kwds[\u001b[38;5;124m\"\u001b[39m\u001b[38;5;124mhas_index_names\u001b[39m\u001b[38;5;124m\"\u001b[39m]\n\u001b[1;32m   1406\u001b[0m \u001b[38;5;28mself\u001b[39m\u001b[38;5;241m.\u001b[39mhandles: IOHandles \u001b[38;5;241m|\u001b[39m \u001b[38;5;28;01mNone\u001b[39;00m \u001b[38;5;241m=\u001b[39m \u001b[38;5;28;01mNone\u001b[39;00m\n\u001b[0;32m-> 1407\u001b[0m \u001b[38;5;28mself\u001b[39m\u001b[38;5;241m.\u001b[39m_engine \u001b[38;5;241m=\u001b[39m \u001b[38;5;28mself\u001b[39m\u001b[38;5;241m.\u001b[39m_make_engine(f, \u001b[38;5;28mself\u001b[39m\u001b[38;5;241m.\u001b[39mengine)\n",
      "File \u001b[0;32m~/anaconda3/lib/python3.11/site-packages/pandas/io/parsers/readers.py:1661\u001b[0m, in \u001b[0;36mTextFileReader._make_engine\u001b[0;34m(self, f, engine)\u001b[0m\n\u001b[1;32m   1659\u001b[0m     \u001b[38;5;28;01mif\u001b[39;00m \u001b[38;5;124m\"\u001b[39m\u001b[38;5;124mb\u001b[39m\u001b[38;5;124m\"\u001b[39m \u001b[38;5;129;01mnot\u001b[39;00m \u001b[38;5;129;01min\u001b[39;00m mode:\n\u001b[1;32m   1660\u001b[0m         mode \u001b[38;5;241m+\u001b[39m\u001b[38;5;241m=\u001b[39m \u001b[38;5;124m\"\u001b[39m\u001b[38;5;124mb\u001b[39m\u001b[38;5;124m\"\u001b[39m\n\u001b[0;32m-> 1661\u001b[0m \u001b[38;5;28mself\u001b[39m\u001b[38;5;241m.\u001b[39mhandles \u001b[38;5;241m=\u001b[39m get_handle(\n\u001b[1;32m   1662\u001b[0m     f,\n\u001b[1;32m   1663\u001b[0m     mode,\n\u001b[1;32m   1664\u001b[0m     encoding\u001b[38;5;241m=\u001b[39m\u001b[38;5;28mself\u001b[39m\u001b[38;5;241m.\u001b[39moptions\u001b[38;5;241m.\u001b[39mget(\u001b[38;5;124m\"\u001b[39m\u001b[38;5;124mencoding\u001b[39m\u001b[38;5;124m\"\u001b[39m, \u001b[38;5;28;01mNone\u001b[39;00m),\n\u001b[1;32m   1665\u001b[0m     compression\u001b[38;5;241m=\u001b[39m\u001b[38;5;28mself\u001b[39m\u001b[38;5;241m.\u001b[39moptions\u001b[38;5;241m.\u001b[39mget(\u001b[38;5;124m\"\u001b[39m\u001b[38;5;124mcompression\u001b[39m\u001b[38;5;124m\"\u001b[39m, \u001b[38;5;28;01mNone\u001b[39;00m),\n\u001b[1;32m   1666\u001b[0m     memory_map\u001b[38;5;241m=\u001b[39m\u001b[38;5;28mself\u001b[39m\u001b[38;5;241m.\u001b[39moptions\u001b[38;5;241m.\u001b[39mget(\u001b[38;5;124m\"\u001b[39m\u001b[38;5;124mmemory_map\u001b[39m\u001b[38;5;124m\"\u001b[39m, \u001b[38;5;28;01mFalse\u001b[39;00m),\n\u001b[1;32m   1667\u001b[0m     is_text\u001b[38;5;241m=\u001b[39mis_text,\n\u001b[1;32m   1668\u001b[0m     errors\u001b[38;5;241m=\u001b[39m\u001b[38;5;28mself\u001b[39m\u001b[38;5;241m.\u001b[39moptions\u001b[38;5;241m.\u001b[39mget(\u001b[38;5;124m\"\u001b[39m\u001b[38;5;124mencoding_errors\u001b[39m\u001b[38;5;124m\"\u001b[39m, \u001b[38;5;124m\"\u001b[39m\u001b[38;5;124mstrict\u001b[39m\u001b[38;5;124m\"\u001b[39m),\n\u001b[1;32m   1669\u001b[0m     storage_options\u001b[38;5;241m=\u001b[39m\u001b[38;5;28mself\u001b[39m\u001b[38;5;241m.\u001b[39moptions\u001b[38;5;241m.\u001b[39mget(\u001b[38;5;124m\"\u001b[39m\u001b[38;5;124mstorage_options\u001b[39m\u001b[38;5;124m\"\u001b[39m, \u001b[38;5;28;01mNone\u001b[39;00m),\n\u001b[1;32m   1670\u001b[0m )\n\u001b[1;32m   1671\u001b[0m \u001b[38;5;28;01massert\u001b[39;00m \u001b[38;5;28mself\u001b[39m\u001b[38;5;241m.\u001b[39mhandles \u001b[38;5;129;01mis\u001b[39;00m \u001b[38;5;129;01mnot\u001b[39;00m \u001b[38;5;28;01mNone\u001b[39;00m\n\u001b[1;32m   1672\u001b[0m f \u001b[38;5;241m=\u001b[39m \u001b[38;5;28mself\u001b[39m\u001b[38;5;241m.\u001b[39mhandles\u001b[38;5;241m.\u001b[39mhandle\n",
      "File \u001b[0;32m~/anaconda3/lib/python3.11/site-packages/pandas/io/common.py:859\u001b[0m, in \u001b[0;36mget_handle\u001b[0;34m(path_or_buf, mode, encoding, compression, memory_map, is_text, errors, storage_options)\u001b[0m\n\u001b[1;32m    854\u001b[0m \u001b[38;5;28;01melif\u001b[39;00m \u001b[38;5;28misinstance\u001b[39m(handle, \u001b[38;5;28mstr\u001b[39m):\n\u001b[1;32m    855\u001b[0m     \u001b[38;5;66;03m# Check whether the filename is to be opened in binary mode.\u001b[39;00m\n\u001b[1;32m    856\u001b[0m     \u001b[38;5;66;03m# Binary mode does not support 'encoding' and 'newline'.\u001b[39;00m\n\u001b[1;32m    857\u001b[0m     \u001b[38;5;28;01mif\u001b[39;00m ioargs\u001b[38;5;241m.\u001b[39mencoding \u001b[38;5;129;01mand\u001b[39;00m \u001b[38;5;124m\"\u001b[39m\u001b[38;5;124mb\u001b[39m\u001b[38;5;124m\"\u001b[39m \u001b[38;5;129;01mnot\u001b[39;00m \u001b[38;5;129;01min\u001b[39;00m ioargs\u001b[38;5;241m.\u001b[39mmode:\n\u001b[1;32m    858\u001b[0m         \u001b[38;5;66;03m# Encoding\u001b[39;00m\n\u001b[0;32m--> 859\u001b[0m         handle \u001b[38;5;241m=\u001b[39m \u001b[38;5;28mopen\u001b[39m(\n\u001b[1;32m    860\u001b[0m             handle,\n\u001b[1;32m    861\u001b[0m             ioargs\u001b[38;5;241m.\u001b[39mmode,\n\u001b[1;32m    862\u001b[0m             encoding\u001b[38;5;241m=\u001b[39mioargs\u001b[38;5;241m.\u001b[39mencoding,\n\u001b[1;32m    863\u001b[0m             errors\u001b[38;5;241m=\u001b[39merrors,\n\u001b[1;32m    864\u001b[0m             newline\u001b[38;5;241m=\u001b[39m\u001b[38;5;124m\"\u001b[39m\u001b[38;5;124m\"\u001b[39m,\n\u001b[1;32m    865\u001b[0m         )\n\u001b[1;32m    866\u001b[0m     \u001b[38;5;28;01melse\u001b[39;00m:\n\u001b[1;32m    867\u001b[0m         \u001b[38;5;66;03m# Binary mode\u001b[39;00m\n\u001b[1;32m    868\u001b[0m         handle \u001b[38;5;241m=\u001b[39m \u001b[38;5;28mopen\u001b[39m(handle, ioargs\u001b[38;5;241m.\u001b[39mmode)\n",
      "\u001b[0;31mFileNotFoundError\u001b[0m: [Errno 2] No such file or directory: '../data/per_statistica.csv'"
     ]
    }
   ],
   "source": [
    "data = pd.read_csv('../data/per_statistica.csv') #данные, которые мы нашли\n",
    "data"
   ]
  },
  {
   "cell_type": "code",
   "execution_count": null,
   "id": "ddbd92a3-9076-4add-a9b3-755855ab1a2a",
   "metadata": {},
   "outputs": [],
   "source": [
    "data.columns"
   ]
  },
  {
   "cell_type": "code",
   "execution_count": null,
   "id": "f740b8e1-499a-48d9-824e-c0dc0a3f01a4",
   "metadata": {},
   "outputs": [],
   "source": [
    "data_1 = pd.read_csv('../data/Dataset.csv') #данные, которые мы собрали\n",
    "data_1"
   ]
  },
  {
   "cell_type": "markdown",
   "id": "6654d616-5bdd-4e15-a52c-0c9489579c53",
   "metadata": {},
   "source": [
    "## Данные\n",
    "\n",
    "Посмотрим\n",
    "\n",
    "- какие есть колонки в каждом наборе данных и сколько их \n",
    "- сколько строк\n",
    "- количество пропущенных ответов\n",
    "\n",
    "Удалим колонки, где много пропущенных ответов\n",
    "\n",
    "\n"
   ]
  },
  {
   "cell_type": "code",
   "execution_count": null,
   "id": "2de51b0e-9c71-4c94-8515-466215babdb8",
   "metadata": {},
   "outputs": [],
   "source": [
    "data.shape #строк и колонок"
   ]
  },
  {
   "cell_type": "code",
   "execution_count": null,
   "id": "12578ec3-5c73-4b93-985f-d254d6a26685",
   "metadata": {},
   "outputs": [],
   "source": [
    "data.describe() #описание только числовых признаков"
   ]
  },
  {
   "cell_type": "code",
   "execution_count": null,
   "id": "fe0d6135-4789-4c26-846e-62b0a80e5056",
   "metadata": {},
   "outputs": [],
   "source": [
    "data.info()"
   ]
  },
  {
   "cell_type": "code",
   "execution_count": null,
   "id": "167c226a-3493-412e-9564-8ba869b5b0c4",
   "metadata": {},
   "outputs": [],
   "source": [
    "data_1.info()"
   ]
  },
  {
   "cell_type": "markdown",
   "id": "62f7d2ef-983c-4df9-9409-353f80c5469c",
   "metadata": {},
   "source": [
    "### Таблица с вопросами, типами ответов и кол-во не пустых строк в каждом вопросе\n",
    "\n",
    "Посмотрим только на первый набор данных, так как в нашем нет пропусков"
   ]
  },
  {
   "cell_type": "code",
   "execution_count": null,
   "id": "399aeae5-d460-4cef-8bdd-a4c56e784b4f",
   "metadata": {},
   "outputs": [],
   "source": [
    "from tabulate import tabulate"
   ]
  },
  {
   "cell_type": "code",
   "execution_count": null,
   "id": "64e4079a-2740-4f54-ac8c-05fe9fae3398",
   "metadata": {},
   "outputs": [],
   "source": [
    "headers = [\"Column Name\", \"Data Type\", \"Non-Null Count\"]\n",
    "datatable = [[col, data[col].dtype, data[col].count()] for col in data.columns]\n",
    "table = tabulate(datatable, headers=headers, tablefmt=\"pretty\")\n",
    "print(table)"
   ]
  },
  {
   "cell_type": "markdown",
   "id": "f0ff8831-86db-48e2-82e8-46de45254af6",
   "metadata": {},
   "source": [
    "# Подготовка данных\n",
    "\n",
    "- **Удаление ненужных столбцов** (содержат слишком много недостающих данных)\n",
    "  \n",
    "- **Объединение двух наборов данных**\n",
    "\n",
    "- **Идентификация повторяющихся столбцов** \n",
    "\n",
    "- **Переименование столбцов и строк** (чтобы сделать их более информативными и/или более понятными)"
   ]
  },
  {
   "cell_type": "code",
   "execution_count": null,
   "id": "2daaeccc-eb6d-437d-94fd-f38050403dac",
   "metadata": {},
   "outputs": [],
   "source": [
    "data.isna().sum()"
   ]
  },
  {
   "cell_type": "markdown",
   "id": "1049a374-18de-43d7-9ed7-35d8b406d9ef",
   "metadata": {},
   "source": [
    "### Удаление колонок с NAN"
   ]
  },
  {
   "cell_type": "code",
   "execution_count": null,
   "id": "98745f53-bfaa-44b8-9ed7-ad33a5d6a491",
   "metadata": {},
   "outputs": [],
   "source": [
    "columns_to_drop = ['Cereals (eg spelled, barley)',\n",
    "                   'Dark chocolate',\n",
    "                   'Do you eat out with meals?',\n",
    "                  'Do you eat alone or together? ']\n",
    "\n",
    "data = data.drop(columns=columns_to_drop, axis=1)"
   ]
  },
  {
   "cell_type": "code",
   "execution_count": null,
   "id": "2c6af5b2-4a43-4e3b-b204-f1f6d823bf89",
   "metadata": {},
   "outputs": [],
   "source": [
    "data.shape"
   ]
  },
  {
   "cell_type": "markdown",
   "id": "bc20c7f9-f3da-402b-b76c-aeab0b6723b3",
   "metadata": {},
   "source": [
    "### Найдем общие колонки у двух наборов данных"
   ]
  },
  {
   "cell_type": "code",
   "execution_count": null,
   "id": "b0d528d0-46e1-4f21-af70-f2969b2787f6",
   "metadata": {},
   "outputs": [],
   "source": [
    "data_columns = data.columns.tolist()\n",
    "data_1_columns = data_1.columns.tolist()"
   ]
  },
  {
   "cell_type": "code",
   "execution_count": null,
   "id": "b4a58e44-9419-41b4-bc32-6500e25f580b",
   "metadata": {},
   "outputs": [],
   "source": [
    "common_columns = list(set(data_columns) & set(data_1_columns))\n",
    "len(common_columns)"
   ]
  },
  {
   "cell_type": "code",
   "execution_count": null,
   "id": "9b162529-886d-45bf-8fc2-431458551315",
   "metadata": {},
   "outputs": [],
   "source": [
    "data_columns"
   ]
  },
  {
   "cell_type": "code",
   "execution_count": null,
   "id": "1e27e88b-948a-4344-a635-7d13c70c5070",
   "metadata": {},
   "outputs": [],
   "source": [
    "unique_columns_dataset_renamed = set(data_columns) - set(data_1_columns) # вопросы, которые есть в найденных данных, нет у нас\n",
    "unique_columns_dataset_renamed"
   ]
  },
  {
   "cell_type": "code",
   "execution_count": null,
   "id": "5872a1f8-c488-494e-a77e-b9d2e99a9ae1",
   "metadata": {},
   "outputs": [],
   "source": [
    "unique_columns_data_1 = set(data_1_columns) - set(data_columns) # вопросы, которых нет в найденных данных\n",
    "unique_columns_data_1"
   ]
  },
  {
   "cell_type": "code",
   "execution_count": null,
   "id": "d200252f-569c-4d4f-8e65-ab264ee21869",
   "metadata": {},
   "outputs": [],
   "source": [
    "# определение общих колонок \n",
    "common_columns = [\n",
    "    'Tofu',\n",
    "    'How many liters of water do you drink per day?',\n",
    "    'Processed Meat (es prosciutto)',\n",
    "    'SEX',\n",
    "    'Do you play a sport (at least 5 hours/week)?',\n",
    "    'Do you eat differently at the weekend?',\n",
    "    'How do you sleep at night?',\n",
    "    'How many sugary drinks do you consume per day?',\n",
    "    'Raw vegetables',\n",
    "    \"Cow's milk\",\n",
    "    'Fresh cheeses',\n",
    "    'Do you ever miss meals?',\n",
    "    'Vegetable drinks (eg soy milk)',\n",
    "    'Do you eat fast?',\n",
    "    'Cooked vegetables',\n",
    "    'Low-fat white yogurt',\n",
    "    'Do you ever eat distracted or not at the table?',\n",
    "    'Do you wake up to eat at night?',\n",
    "    'When are you hungry during the day?',\n",
    "    'How many times do you eat a day?',\n",
    "    'Nuts',\n",
    "    'Legumes',\n",
    "    'Fish',\n",
    "    'Fruits',\n",
    "    'Eggs',\n",
    "    'Whole grains food',\n",
    "    \"Do you happen to eat uncontrollably even if you're not hungry?\",\n",
    "    'How many times do you consume alcoholic beverages in a week?',\n",
    "    'Meat'\n",
    "]\n",
    "\n",
    "filtered_dataset_renamed = data[common_columns]\n",
    "filtered_modified_per_statistica = data_1[common_columns]\n",
    "\n",
    "con_df = pd.concat([filtered_dataset_renamed, filtered_modified_per_statistica], ignore_index=True)\n",
    "\n",
    "con_df.shape"
   ]
  },
  {
   "cell_type": "markdown",
   "id": "0a5aa81f-1db9-4fba-bf67-d060cc14d147",
   "metadata": {},
   "source": [
    "### Нахождение и удаление строк-дубликатов"
   ]
  },
  {
   "cell_type": "code",
   "execution_count": null,
   "id": "4a18d8b0-88a0-4ea4-b525-5ff8884dec44",
   "metadata": {},
   "outputs": [],
   "source": [
    "con_df.loc[con_df.duplicated()]"
   ]
  },
  {
   "cell_type": "code",
   "execution_count": null,
   "id": "516db5fd-7194-4f9b-841c-ff4df3ba82df",
   "metadata": {},
   "outputs": [],
   "source": [
    "con_df[con_df.duplicated(keep=False)]"
   ]
  },
  {
   "cell_type": "code",
   "execution_count": null,
   "id": "434df10f-69eb-454f-9f2a-05f10d24314a",
   "metadata": {},
   "outputs": [],
   "source": [
    "df = con_df.drop_duplicates() #новый df, который будет содержать только уникальные строки из исходного DataFrame \n",
    "df"
   ]
  },
  {
   "cell_type": "code",
   "execution_count": null,
   "id": "f97370ae-5153-4c3d-b35e-452e8f8e50b5",
   "metadata": {},
   "outputs": [],
   "source": [
    "df.isna().sum()"
   ]
  },
  {
   "cell_type": "markdown",
   "id": "ad39f42a-7e98-43c1-b84c-4b72b422ead5",
   "metadata": {},
   "source": [
    "### Посмотрим, какие уникальные ответы есть в каждой колонке, и преобразуем их\n"
   ]
  },
  {
   "cell_type": "code",
   "execution_count": null,
   "id": "f91b08f3-0bbc-4da8-9b32-f8165bc09c0f",
   "metadata": {},
   "outputs": [],
   "source": [
    "for column in df.columns:\n",
    "    unique_values = df[column].unique()\n",
    "    print(len(unique_values))\n",
    "    print(f\"Unique values in '{column}': {unique_values}\")"
   ]
  },
  {
   "cell_type": "markdown",
   "id": "524592b8-a178-40a4-8b23-f6bd629a7054",
   "metadata": {},
   "source": [
    "## Что нужно поменять?\n",
    "Объединить ответы в столбцах\n",
    "- 'Do you ever miss meals?\n",
    "- 'When are you hungry during the day?"
   ]
  },
  {
   "cell_type": "markdown",
   "id": "f109cec1-6c12-407c-92ed-e1fdec0d9e81",
   "metadata": {},
   "source": [
    "### Преобразование значений столбца 'When are you hungry during the day?"
   ]
  },
  {
   "cell_type": "code",
   "execution_count": null,
   "id": "ae113adc-a847-4eb1-a2c0-f9d9b4eeda61",
   "metadata": {},
   "outputs": [],
   "source": [
    "df['When are you hungry during the day?'].unique()"
   ]
  },
  {
   "cell_type": "code",
   "execution_count": null,
   "id": "9654eef2-61b0-4d2d-9ac1-48f301a2dbc8",
   "metadata": {},
   "outputs": [],
   "source": [
    "len(df['When are you hungry during the day?'].unique())"
   ]
  },
  {
   "cell_type": "markdown",
   "id": "bb5d1cc7-2ce3-4e5e-a7b5-c16af9019c02",
   "metadata": {},
   "source": [
    "***Финальные уникальные значения***\n",
    "1. Утром - in the morning\n",
    "2. Во второй половине дня - in the afternoon\n",
    "3. Вечером - in the evening\n",
    "4. В первой и второй половине дня - morning+afternoon\n",
    "5. Во второй и третьей - afternoon+evening\n",
    "6. В третьей и первой - morning+evening\n",
    "7. Я всегда голоден  - I am always hungry"
   ]
  },
  {
   "cell_type": "code",
   "execution_count": null,
   "id": "ceed23df-9691-47fe-a317-ebe160a9857a",
   "metadata": {},
   "outputs": [],
   "source": [
    "df['When are you hungry during the day?'] = df['When are you hungry during the day?'].replace(['When I wake Up,During the morning', 'When I wake Up', 'During the morning'], 'In the morning')\n",
    "df['When are you hungry during the day?'] = df['When are you hungry during the day?'].replace(['After lunch', 'Before lunch,After lunch', 'In The Afternoon', 'In the afternoon,After lunch', 'In the afternoon,Before lunch', 'In the afternoon', 'Before lunch'], 'In the afternoon')\n",
    "df['When are you hungry during the day?'] = df['When are you hungry during the day?'].replace(['Before Dinner,After Dinner', 'Before Dinner', 'After Dinner'], 'In the evening')\n",
    "df['When are you hungry during the day?'] = df['When are you hungry during the day?'].replace(['During the morning,In the afternoon', 'During the morning,In the afternoon,Before lunch', 'During the morning,Before lunch', 'During the morning,After lunch', 'When I wake Up,Before lunch', 'When I wake Up,During the morning,Before lunch', 'When I wake Up,After lunch'], 'morning+afternoon')\n",
    "df['When are you hungry during the day?'] = df['When are you hungry during the day?'].replace(['Before lunch,After lunch,Before Dinner,After Dinner', 'In the afternoon,After lunch,Before Dinner', 'In the afternoon,Before lunch,After Dinner', 'After lunch,After Dinner', 'Before lunch,Before Dinner,After Dinner', 'In the afternoon,After lunch,After Dinner', 'In the afternoon,Before lunch,Before Dinner,After Dinner', 'In the afternoon,Before lunch,After lunch,Before Dinner,After Dinner', 'In the afternoon,Before lunch,After lunch,Before Dinner', 'In the afternoon,Before lunch,Before Dinner', 'After lunch,Before Dinner,After Dinner', 'In the afternoon,Before Dinner,After Dinner', 'After lunch,Before Dinner', 'In the afternoon,After Dinner', 'Before lunch,Before Dinner', 'Before lunch,After Dinner', 'In the afternoon,Before Dinner'], 'afternoon+evening')\n",
    "df['When are you hungry during the day?'] = df['When are you hungry during the day?'].replace([ 'When I wake Up,During the morning,After Dinner','During the morning,Before Dinner,After Dinner' ,'When I wake Up,During the morning,Before Dinner','When I wake Up,After Dinner','During the morning,After Dinner', 'During the morning,Before Dinner', 'When I wake Up,Before Dinner'],'morning+evening')\n",
    "len(df['When are you hungry during the day?'].unique())"
   ]
  },
  {
   "cell_type": "code",
   "execution_count": null,
   "id": "0e08deb7-fb7e-493b-9034-989708b16fd2",
   "metadata": {},
   "outputs": [],
   "source": [
    " df['When are you hungry during the day?'] = df['When are you hungry during the day?'].replace(['During the morning,Before lunch,Before Dinner',\n",
    "    'During the morning,In the afternoon,Before Dinner',\n",
    "   'When I wake Up,During the morning,In the afternoon,Before lunch,Before Dinner',\n",
    "   'When I wake Up,During the morning,In the afternoon,Before lunch,After lunch,Before Dinner,After Dinner',\n",
    "    \"During the morning,Before lunch,I'm always hungry\",\n",
    "   'During the morning,In the afternoon,Before lunch,Before Dinner',\n",
    "     'When I wake Up,Before lunch,Before Dinner,After Dinner',\n",
    "   \"I'm always hungry\",\n",
    "       'During the morning,After lunch,After Dinner',\n",
    "   \"In the afternoon,Before lunch,Before Dinner,I'm always hungry\",\n",
    "       'During the morning,Before lunch,After Dinner',\n",
    "       'When I wake Up,After lunch,After Dinner',\n",
    "       \"In the afternoon,Before Dinner,After Dinner,I'm always hungry\",\n",
    "       \"When I wake Up,During the morning,In the afternoon,Before lunch,Before Dinner,I'm always hungry\",\n",
    "       \"During the morning,In the afternoon,I'm always hungry\",\n",
    " \"After lunch,I'm always hungry\",\n",
    "       'During the morning,After lunch,Before Dinner',\n",
    "       \"Before lunch,Before Dinner,I'm always hungry\",\n",
    "       \"When I wake Up,Before lunch,Before Dinner,I'm always hungry\",\n",
    "       \"When I wake Up,During the morning,In the afternoon,Before lunch,After lunch,Before Dinner,After Dinner,I'm always hungry\",\n",
    "       'When I wake Up,Before lunch,After Dinner',\n",
    "       'During the morning,In the afternoon,After Dinner',\n",
    "       'During the morning,In the afternoon,After lunch,Before Dinner,After Dinner',\n",
    "       'When I wake Up,After lunch,Before Dinner',\n",
    "     \"Before lunch,Before Dinner,After Dinner,I'm always hungry\",\n",
    "    \"In the afternoon,I'm always hungry\",\n",
    "  'When I wake Up,During the morning,In the afternoon,Before Dinner',\n",
    "       'When I wake Up,During the morning,After lunch,Before Dinner',\n",
    "     \"When I wake Up,I'm always hungry\",\n",
    "  \"When I wake Up,In the afternoon,After lunch,After Dinner,I'm always hungry\",\n",
    "       'When I wake Up,In the afternoon,Before lunch,Before Dinner',\n",
    "  'When I wake Up,During the morning,Before lunch,Before Dinner',\n",
    "       'When I wake Up,In the afternoon,Before Dinner',\n",
    "  \"Before Dinner,After Dinner,I'm always hungry\",\n",
    "       'When I wake Up,Before lunch,Before Dinner'], \"I'm always hungry\")\n",
    "len(df['When are you hungry during the day?'].unique())"
   ]
  },
  {
   "cell_type": "code",
   "execution_count": null,
   "id": "ea9ca60c-7842-4563-bf00-a56efae6b6b4",
   "metadata": {},
   "outputs": [],
   "source": [
    "df['When are you hungry during the day?'].unique()"
   ]
  },
  {
   "cell_type": "code",
   "execution_count": null,
   "id": "90465fab-966a-4068-901c-8f3b231d568e",
   "metadata": {},
   "outputs": [],
   "source": [
    "#df.to_csv('df.csv', index=False) \n",
    "#сохранение для дальнейшего использования"
   ]
  },
  {
   "cell_type": "markdown",
   "id": "341e42f2",
   "metadata": {},
   "source": [
    "### Преобразования столбца \"Do you ever miss meals?\""
   ]
  },
  {
   "cell_type": "markdown",
   "id": "ff191597",
   "metadata": {},
   "source": [
    "***Как хотим поменять?***\n",
    "\n",
    "'No',\n",
    "\n",
    "'Yes', \n",
    "\n",
    "'Yes, breakfast',\n",
    "\n",
    "'Yes for craving' -Yes, \n",
    "\n",
    "'I have no time' -Yes,\n",
    "\n",
    "'Salto spesso i pasti perché non ho tempo' -Yes,\n",
    "\n",
    "'Yes lunch,I have no time' - Yes, lunch, \n",
    "\n",
    "'Yes lunch,Yes dinner,I have no time' - Yes,lunch + dinner,\n",
    "\n",
    "'Yes, breakfast', \n",
    "\n",
    "'Yes, lunch', \n",
    "\n",
    "'Yes breakfast,I have no time' -Yes breakfast,\n",
    "\n",
    "'Yes dinner',\n",
    "\n",
    "\"No,I'm always hungry\" - No, \n",
    "\n",
    "'Yes breakfast,Yes lunch'- Yes, breakfast+lunch,\n",
    "\n",
    "\"I'm always hungry\" - No,\n",
    "\n",
    "'Yes breakfast,Yes lunch,Yes dinner' - Yes,\n",
    "\n",
    "'Yes breakfast,Yes dinner' - Yes, dinner+breakfast ,\n",
    "\n",
    "'Yes breakfast,Yes lunch,I have no time' - Yes, breakfast+lunch,\n",
    "\n",
    "\"Yes breakfast,Yes lunch,I have no time,I'm always hungry\" - Yes, breakfast+lunch,\n",
    "\n",
    "\"I have no time,I'm always hungry\" - Yes,\n",
    "\n",
    "\"Yes breakfast,I have no time,I'm always hungry\" - Yes, breakfast,\n",
    "\n",
    "'Yes breakfast,Yes dinner,I have no time' - Yes, breakfast + dinner,\n",
    "\n",
    "\"Yes dinner,I'm always hungry\" - Yes, dinner,\n",
    "\n",
    "'Yes lunch,Yes dinner' - Yes, lunch+dinner,\n",
    "\n",
    "\"Yes dinner,I have no time' - Yes, dinner, \n",
    "\n",
    "'Yes breakfast,I'm always hungry\" - Yes, breakfast,\n",
    "\n",
    "\"Yes breakfast,Yes lunch,Yes dinner,I have no time,I'm always hungry\" - Yes\n",
    "\n"
   ]
  },
  {
   "cell_type": "markdown",
   "id": "c47c3d50",
   "metadata": {},
   "source": [
    "***Финальные уникальные значения***\n",
    "\n",
    "1. No\n",
    "\n",
    "2. Yes\n",
    "\n",
    "3. Yes, breakfast\n",
    "\n",
    "4. Yes, lunch\n",
    "\n",
    "5. Yes, dinner\n",
    "\n",
    "6. Yes, breakfast+lunch\n",
    "\n",
    "7. Yes, lunch+dinner\n",
    "\n",
    "8. Yes, dinner+breakfast\n",
    "\n"
   ]
  },
  {
   "cell_type": "code",
   "execution_count": null,
   "id": "fffd6cf8",
   "metadata": {},
   "outputs": [],
   "source": [
    "len(df['Do you ever miss meals?'].unique())"
   ]
  },
  {
   "cell_type": "code",
   "execution_count": null,
   "id": "b7fda686",
   "metadata": {},
   "outputs": [],
   "source": [
    "def transform_meal_response(value):\n",
    "    mapping = {\n",
    "        'Yes for craving': 'Yes',\n",
    "        'I have no time': 'Yes',\n",
    "        'Salto spesso i pasti perché non ho tempo': 'Yes',\n",
    "        'Yes lunch,I have no time': 'Yes, lunch',\n",
    "        'Yes lunch,Yes dinner,I have no time': 'Yes, lunch+dinner',\n",
    "        'Yes breakfast,I have no time': 'Yes, breakfast',\n",
    "        'Yes breakfast': 'Yes, breakfast',\n",
    "        'Yes dinner': 'Yes, dinner',\n",
    "        \"No,I'm always hungry\": 'No',\n",
    "        'Yes breakfast,Yes lunch': 'Yes, breakfast+lunch',\n",
    "        \"I'm always hungry\": 'No',\n",
    "        'Yes lunch': 'Yes, lunch',\n",
    "        'Yes breakfast,Yes lunch,Yes dinner': 'Yes',\n",
    "        'Yes breakfast,Yes dinner': 'Yes, breakfast+dinner',\n",
    "        'Yes breakfast,Yes lunch,I have no time': 'Yes, breakfast+lunch',\n",
    "        'Yes breakfast,Yes lunch,I have no time,Я всегда голоден': 'Yes, breakfast+lunch',\n",
    "        'I have no time,Я всегда голоден': 'Yes',\n",
    "        'Yes breakfast,I have no time,Я всегда голоден': 'Yes, breakfast',\n",
    "        'Yes breakfast,Yes dinner,I have no time': 'Yes, breakfast+dinner',\n",
    "        'Yes dinner,Я всегда голоден': 'Yes, dinner',\n",
    "        'Yes lunch,Yes dinner': 'Yes, lunch+dinner',\n",
    "        'Yes dinner,I have no time': 'Yes, dinner',\n",
    "        'Yes breakfast,Я всегда голоден': 'Yes, breakfast',\n",
    "        'Yes breakfast,Yes lunch,Yes dinner,I have no time,Я всегда голоден': 'Yes'\n",
    "    }\n",
    "    # значения, прямо не указанные в словаре, возвращаем  как есть, предполагая, что они уже в нужном формате\n",
    "    return mapping.get(value, value)"
   ]
  },
  {
   "cell_type": "code",
   "execution_count": null,
   "id": "5415f533",
   "metadata": {},
   "outputs": [],
   "source": [
    "df['Do you ever miss meals?'] = df['Do you ever miss meals?'].apply(transform_meal_response)\n",
    "\n",
    "# уникальные значения после преобразования\n",
    "unique_values = df['Do you ever miss meals?'].unique()\n",
    "len(unique_values)"
   ]
  },
  {
   "cell_type": "code",
   "execution_count": null,
   "id": "c7fbf067",
   "metadata": {},
   "outputs": [],
   "source": [
    "unique_values"
   ]
  },
  {
   "cell_type": "code",
   "execution_count": null,
   "id": "a21ad24b",
   "metadata": {},
   "outputs": [],
   "source": [
    "f"
   ]
  }
 ],
 "metadata": {
  "kernelspec": {
   "display_name": "Python 3 (ipykernel)",
   "language": "python",
   "name": "python3"
  },
  "language_info": {
   "codemirror_mode": {
    "name": "ipython",
    "version": 3
   },
   "file_extension": ".py",
   "mimetype": "text/x-python",
   "name": "python",
   "nbconvert_exporter": "python",
   "pygments_lexer": "ipython3",
   "version": "3.11.5"
  }
 },
 "nbformat": 4,
 "nbformat_minor": 5
}
